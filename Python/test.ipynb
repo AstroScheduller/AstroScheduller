{
 "cells": [
  {
   "cell_type": "code",
   "execution_count": 1,
   "metadata": {},
   "outputs": [],
   "source": [
    "from scheduller import scheduller"
   ]
  },
  {
   "cell_type": "code",
   "execution_count": 2,
   "metadata": {},
   "outputs": [],
   "source": [
    "s = scheduller()\n",
    "s.objects.from_xml(open(\"/Users/wenky/Documents/GitHub/AstroSchedullerGo/tests/psr_list_debug_short.xml\").read())"
   ]
  },
  {
   "cell_type": "code",
   "execution_count": 3,
   "metadata": {},
   "outputs": [],
   "source": [
    "s.get_schedule()"
   ]
  },
  {
   "cell_type": "code",
   "execution_count": 2,
   "metadata": {},
   "outputs": [],
   "source": [
    "'''\n",
    "Author: your name\n",
    "Date: 2022-03-17 21:20:04\n",
    "LastEditTime: 2022-03-17 23:36:34\n",
    "LastEditors: Please set LastEditors\n",
    "Description: 打开koroFileHeader查看配置 进行设置: https://github.com/OBKoro1/koro1FileHeader/wiki/%E9%85%8D%E7%BD%AE\n",
    "FilePath: /AstroSchedullerGo/Python/core.py\n",
    "'''\n",
    "\n",
    "# go build -buildmode=c-shared -o _scheduller.so *.go\n",
    "\n",
    "import os\n",
    "import json\n",
    "from sqlite3 import Timestamp\n",
    "import requests\n",
    "import hashlib\n",
    "import ctypes\n",
    "from utilities import utilities\n",
    "from config import config\n",
    "\n",
    "class core():\n",
    "    def __init__(self):\n",
    "        self.c = config()\n",
    "        self.u = utilities()\n",
    "        self.coreInfo = {\n",
    "            \"version\": \"0.9.2\",\n",
    "            \"config\": False,\n",
    "            \"configUrl\": \"https://raw.githubusercontent.com/xiawenke/AstroSchedullerGo/Dev/releases_latest/_scheduller.config\",\n",
    "            \"corePath\": self.c.corePath,\n",
    "            \"configPath\": self.c.coreConfigPath\n",
    "        }\n",
    "        \n",
    "        # Check if the AstroSchedullerGo Module exists\\\n",
    "        if(not os.path.isdir(self.u.get_dir(self.coreInfo[\"corePath\"]))):\n",
    "            os.mkdir(self.u.get_dir(self.coreInfo[\"corePath\"]))\n",
    "        \n",
    "        self.get_core_info()\n",
    "        \n",
    "        if(not os.path.isfile(self.coreInfo[\"corePath\"])):\n",
    "            self.download_core()\n",
    "        \n",
    "        self.check_integrity()\n",
    "    \n",
    "    def get_core_info(self):\n",
    "        try:\n",
    "            self.coreInfo[\"config\"] = json.loads(requests.get(self.coreInfo[\"configUrl\"]).text)\n",
    "            try:\n",
    "                self.coreInfo[\"config\"] = self.coreInfo[\"config\"][self.coreInfo[\"version\"]]\n",
    "            except Exception as e:\n",
    "                raise Exception(\"get_core_info\", \"AstroSchedullerGo no longer support for version\", self.coreInfo[\"version\"])\n",
    "                \n",
    "        except Exception as e:\n",
    "            print(str(e), \" -> working without internet connection. \")\n",
    "            \n",
    "            if(os.path.isfile(self.coreInfo[\"configPath\"])):\n",
    "                self.coreInfo[\"config\"] = json.loads(open(self.coreInfo[\"configPath\"]).read())\n",
    "            else:\n",
    "                raise Exception(\"get_core_info\", \"Need internet to initialize. (If you are working offline, see https://github.com/xiawenke/AstroSchedullerGo for more information.)\")\n",
    "        \n",
    "        open(self.coreInfo[\"configPath\"], \"w+\").write(json.dumps(self.coreInfo[\"config\"]))\n",
    "        \n",
    "        return True\n",
    "    \n",
    "    def download_core(self):\n",
    "        print(\"Downloading AstroSchedullerGo Module...\")\n",
    "            \n",
    "        try:\n",
    "            #open(self.coreInfo[\"corePath\"], \"wb\").write(requests.get(self.coreInfo[\"config\"][\"url\"], stream=True).content)\n",
    "            \n",
    "            req = requests.get(self.coreInfo[\"config\"][\"url\"], stream=True)\n",
    "            with open(self.coreInfo[\"corePath\"], 'wb') as f:\n",
    "                f.write(req.content)\n",
    "        except Exception as e:\n",
    "            raise Exception(str(e), \"AstroSchedullerGo Module does not exists. Try again after check the internet connection. (If you are working offline, see https://github.com/xiawenke/AstroSchedullerGo for more information.)\")\n",
    "        \n",
    "        print(\"Downloading AstroSchedullerGo Module... Done.\")\n",
    "        return True\n",
    "    \n",
    "    def check_integrity(self):\n",
    "        try:\n",
    "            if(self.u.md5(open(self.coreInfo[\"corePath\"], \"rb\").read()).lower() == (self.coreInfo[\"config\"][\"md5\"]).lower()):\n",
    "                # print(\"check_integrity: pass\")\n",
    "                return True\n",
    "            else:\n",
    "                print(\"check_integrity: not pass\")\n",
    "                self.download_core()\n",
    "                return self.check_integrity()\n",
    "        except Exception as e:\n",
    "            print(\"check_integrity: not check\", str(e))\n",
    "            return False\n",
    "    \n",
    "    def update(self):\n",
    "        os.unlink(self.coreInfo[\"corePath\"])\n",
    "        os.unlink(self.coreInfo[\"configPath\"])\n",
    "        self.__init__()\n",
    "\n",
    "        return True\n",
    "    \n",
    "    def go_schedule(self, importPath, exportPath):\n",
    "        goHandle = ctypes.cdll.LoadLibrary(self.coreInfo[\"corePath\"])\n",
    "        goHandle.argtypes = [ctypes.c_char_p, ctypes.c_char_p]\n",
    "        goHandle.py_schedule(importPath.encode(), exportPath.encode())\n",
    "        \n",
    "        if(not os.path.isfile(importPath) or not os.path.isfile(exportPath)):\n",
    "            return False\n",
    "        \n",
    "        return True\n",
    "    \n",
    "    def go_AltAz_raw(self, ra, dec, timestamp, tele_lat, tele_long, tele_alt):\n",
    "        goHandle = ctypes.cdll.LoadLibrary(self.coreInfo[\"corePath\"])\n",
    "        #goHandle.py_AltAz.argtypes = [ctypes.c_float, ctypes.c_float, ctypes.c_int64, ctypes.c_float, ctypes.c_float, ctypes.c_float]\n",
    "        goHandle.py_AltAz.restype = ctypes.c_char_p\n",
    "        goReturn = goHandle.py_AltAz(str(ra).encode(), str(dec).encode(), str(int(timestamp)).encode(), str(tele_lat).encode(), str(tele_long).encode(), str(tele_alt).encode()).decode()\n",
    "        \n",
    "        try:\n",
    "            return [float(goReturn.split(\",\")[0]), float(goReturn.split(\",\")[1])]\n",
    "        except Exception as e:\n",
    "            raise Exception(\"go_AltAz: \" + str(e), \"unexpected core return\")\n",
    "\n",
    "    def go_AltAz(self, observation, object, timestamps):\n",
    "        Alts = list()\n",
    "        Azs = list()\n",
    "\n",
    "        for timestamp in timestamps:\n",
    "            thisRes = self.go_AltAz_raw(object[\"ra\"], object[\"dec\"], timestamp, observation[\"telescope\"][\"latitude\"], observation[\"telescope\"][\"longitude\"], observation[\"telescope\"][\"altitude\"])\n",
    "            Alts.append(thisRes[0])\n",
    "            Azs.append(thisRes[1])\n",
    "            \n",
    "        return [Alts, Azs]\n",
    "    "
   ]
  },
  {
   "cell_type": "code",
   "execution_count": 6,
   "metadata": {},
   "outputs": [],
   "source": [
    "c = core()"
   ]
  },
  {
   "cell_type": "code",
   "execution_count": 3,
   "metadata": {},
   "outputs": [
    {
     "data": {
      "text/plain": [
       "True"
      ]
     },
     "execution_count": 3,
     "metadata": {},
     "output_type": "execute_result"
    }
   ],
   "source": [
    "c.get_core_info()"
   ]
  },
  {
   "cell_type": "code",
   "execution_count": 4,
   "metadata": {},
   "outputs": [
    {
     "name": "stdout",
     "output_type": "stream",
     "text": [
      "Downloading AstroSchedullerGo Module...\n",
      "Downloading AstroSchedullerGo Module... Done.\n"
     ]
    },
    {
     "data": {
      "text/plain": [
       "True"
      ]
     },
     "execution_count": 4,
     "metadata": {},
     "output_type": "execute_result"
    }
   ],
   "source": [
    "c.download_core()"
   ]
  },
  {
   "cell_type": "code",
   "execution_count": 8,
   "metadata": {},
   "outputs": [],
   "source": [
    "c.go_schedule(\"\", \"\")"
   ]
  },
  {
   "cell_type": "code",
   "execution_count": 1,
   "metadata": {},
   "outputs": [
    {
     "ename": "NameError",
     "evalue": "name 'i' is not defined",
     "output_type": "error",
     "traceback": [
      "\u001b[0;31m---------------------------------------------------------------------------\u001b[0m",
      "\u001b[0;31mNameError\u001b[0m                                 Traceback (most recent call last)",
      "\u001b[0;32m/var/folders/n8/s97r6wnd55v27nf6yy82k8c40000gn/T/ipykernel_30384/3616029859.py\u001b[0m in \u001b[0;36m<module>\u001b[0;34m\u001b[0m\n\u001b[0;32m----> 1\u001b[0;31m \u001b[0mi\u001b[0m\u001b[0;34m\u001b[0m\u001b[0;34m\u001b[0m\u001b[0m\n\u001b[0m",
      "\u001b[0;31mNameError\u001b[0m: name 'i' is not defined"
     ]
    }
   ],
   "source": [
    "import ctypes\n",
    "goHandle = ctypes.cdll.LoadLibrary(self.coreInfo[\"corePath\"])\n",
    "goHandle.argtypes = [ctypes.c_char_p, ctypes.c_char_p]\n",
    "goHandle.py_schedule(importPath.encode(), exportPath.encode())"
   ]
  },
  {
   "cell_type": "code",
   "execution_count": 3,
   "metadata": {},
   "outputs": [
    {
     "data": {
      "text/plain": [
       "42729472"
      ]
     },
     "execution_count": 3,
     "metadata": {},
     "output_type": "execute_result"
    }
   ],
   "source": [
    "import ctypes\n",
    "c = core()\n",
    "goHandle = ctypes.cdll.LoadLibrary(c.coreInfo[\"corePath\"])\n",
    "goHandle.argtypes = [ctypes.c_char_p, ctypes.c_char_p]\n",
    "goHandle.py_AltAz(\"\", \"\", \"\", \"\", \"\", \"\")"
   ]
  },
  {
   "cell_type": "code",
   "execution_count": null,
   "metadata": {},
   "outputs": [],
   "source": []
  }
 ],
 "metadata": {
  "interpreter": {
   "hash": "a2ac1655bb1ddfb40a3efc5d9327170a1116d98f10b40012a355a0add855e98a"
  },
  "kernelspec": {
   "display_name": "Python 3.8.10 ('base')",
   "language": "python",
   "name": "python3"
  },
  "language_info": {
   "codemirror_mode": {
    "name": "ipython",
    "version": 3
   },
   "file_extension": ".py",
   "mimetype": "text/x-python",
   "name": "python",
   "nbconvert_exporter": "python",
   "pygments_lexer": "ipython3",
   "version": "3.8.10"
  },
  "orig_nbformat": 4
 },
 "nbformat": 4,
 "nbformat_minor": 2
}
